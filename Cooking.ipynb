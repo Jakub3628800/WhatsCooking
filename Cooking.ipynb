{
 "cells": [
  {
   "cell_type": "markdown",
   "metadata": {},
   "source": [
    "## read the dataset"
   ]
  },
  {
   "cell_type": "code",
   "execution_count": 85,
   "metadata": {},
   "outputs": [
    {
     "data": {
      "text/html": [
       "<div>\n",
       "<style scoped>\n",
       "    .dataframe tbody tr th:only-of-type {\n",
       "        vertical-align: middle;\n",
       "    }\n",
       "\n",
       "    .dataframe tbody tr th {\n",
       "        vertical-align: top;\n",
       "    }\n",
       "\n",
       "    .dataframe thead th {\n",
       "        text-align: right;\n",
       "    }\n",
       "</style>\n",
       "<table border=\"1\" class=\"dataframe\">\n",
       "  <thead>\n",
       "    <tr style=\"text-align: right;\">\n",
       "      <th></th>\n",
       "      <th>cuisine</th>\n",
       "      <th>ingredients</th>\n",
       "    </tr>\n",
       "    <tr>\n",
       "      <th>id</th>\n",
       "      <th></th>\n",
       "      <th></th>\n",
       "    </tr>\n",
       "  </thead>\n",
       "  <tbody>\n",
       "    <tr>\n",
       "      <th>10259</th>\n",
       "      <td>greek</td>\n",
       "      <td>[romaine lettuce, black olives, grape tomatoes...</td>\n",
       "    </tr>\n",
       "    <tr>\n",
       "      <th>25693</th>\n",
       "      <td>southern_us</td>\n",
       "      <td>[plain flour, ground pepper, salt, tomatoes, g...</td>\n",
       "    </tr>\n",
       "    <tr>\n",
       "      <th>20130</th>\n",
       "      <td>filipino</td>\n",
       "      <td>[eggs, pepper, salt, mayonaise, cooking oil, g...</td>\n",
       "    </tr>\n",
       "    <tr>\n",
       "      <th>22213</th>\n",
       "      <td>indian</td>\n",
       "      <td>[water, vegetable oil, wheat, salt]</td>\n",
       "    </tr>\n",
       "    <tr>\n",
       "      <th>13162</th>\n",
       "      <td>indian</td>\n",
       "      <td>[black pepper, shallots, cornflour, cayenne pe...</td>\n",
       "    </tr>\n",
       "  </tbody>\n",
       "</table>\n",
       "</div>"
      ],
      "text/plain": [
       "           cuisine                                        ingredients\n",
       "id                                                                   \n",
       "10259        greek  [romaine lettuce, black olives, grape tomatoes...\n",
       "25693  southern_us  [plain flour, ground pepper, salt, tomatoes, g...\n",
       "20130     filipino  [eggs, pepper, salt, mayonaise, cooking oil, g...\n",
       "22213       indian                [water, vegetable oil, wheat, salt]\n",
       "13162       indian  [black pepper, shallots, cornflour, cayenne pe..."
      ]
     },
     "execution_count": 85,
     "metadata": {},
     "output_type": "execute_result"
    }
   ],
   "source": [
    "import pandas as pd\n",
    "df = pd.read_json(\"../data/train.json\").set_index(\"id\")\n",
    "df.cuisine = df.cuisine.astype(\"category\")\n",
    "df.head()"
   ]
  },
  {
   "cell_type": "markdown",
   "metadata": {},
   "source": [
    "## preprocess data"
   ]
  },
  {
   "cell_type": "markdown",
   "metadata": {},
   "source": [
    "1. lowercase all\n",
    "2. extract the stem of the word (so \"tomatoes\" and \"tomato\" are treated as a same ingredient)\n",
    "3. remove \"stopwords\" (so \"extra-virgin olive oil\" and \"olive oil\" are the same ingredient)\n",
    "4. replace whitespace (so that \"olive oil\" becomes \"olive_oil\" and gets treated as a single ingredient)\n",
    "5. join ingredients (join ingredients back to a string format, so we can treat the recipe as a sentence)"
   ]
  },
  {
   "cell_type": "code",
   "execution_count": 86,
   "metadata": {},
   "outputs": [
    {
     "name": "stdout",
     "output_type": "stream",
     "text": [
      "Overwriting preprocess.py\n"
     ]
    }
   ],
   "source": [
    "%%writefile preprocess.py\n",
    "## define a preprocessing function that can be used on a dataframe in other files\n",
    "def preprocess_recipes(df):\n",
    "    from nltk.stem.porter import PorterStemmer\n",
    "    porter = PorterStemmer()\n",
    "\n",
    "\n",
    "    import re\n",
    "    meaningless_words = r'crush|crumbl|ground|minc|powder|chop|slice|free|less|sodium|kosher|plain|natur|extra-virgin'\n",
    "\n",
    "\n",
    "    # functions operating on an recipe (sentence) level\n",
    "    lower_recipe = lambda x:[word.lower() for word in x]\n",
    "    stem_recipe = lambda x:[\" \".join([porter.stem(word) for word in ing.split(' ')]) for ing in x]\n",
    "    remove_meaningless_words_recipe = lambda x: [re.sub(meaningless_words,'',ing).strip() for ing in x]\n",
    "    replace_whitespaces_recipe = lambda x: [re.sub(' +', '_', string) for string in x]\n",
    "\n",
    "\n",
    "    # functions operating on a dataset level - to be used for df.assign \n",
    "    lower = lambda x: [lower_recipe(recipe) for recipe in x.ingredients]\n",
    "    stem = lambda x: [stem_recipe(recipe) for recipe in x.ingredients] \n",
    "    remove_meaningless_words = lambda x: [remove_meaningless_words_recipe(recipe) for recipe in x.ingredients] \n",
    "    replace_whitespace = lambda x: [replace_whitespaces_recipe(recipe) for recipe in x.ingredients]\n",
    "    join_ingredients = lambda x:[\" \".join(recipe) for recipe in x.ingredients]\n",
    "\n",
    "    return (df.assign(ingredients=lower)\n",
    "            .assign(ingredients=stem)\n",
    "            .assign(ingredients=remove_meaningless_words)\n",
    "            .assign(ingredients=replace_whitespace)\n",
    "            .assign(ingredients=join_ingredients)\n",
    "            )\n"
   ]
  },
  {
   "cell_type": "code",
   "execution_count": 87,
   "metadata": {},
   "outputs": [
    {
     "data": {
      "text/html": [
       "<div>\n",
       "<style scoped>\n",
       "    .dataframe tbody tr th:only-of-type {\n",
       "        vertical-align: middle;\n",
       "    }\n",
       "\n",
       "    .dataframe tbody tr th {\n",
       "        vertical-align: top;\n",
       "    }\n",
       "\n",
       "    .dataframe thead th {\n",
       "        text-align: right;\n",
       "    }\n",
       "</style>\n",
       "<table border=\"1\" class=\"dataframe\">\n",
       "  <thead>\n",
       "    <tr style=\"text-align: right;\">\n",
       "      <th></th>\n",
       "      <th>cuisine</th>\n",
       "      <th>ingredients</th>\n",
       "    </tr>\n",
       "    <tr>\n",
       "      <th>id</th>\n",
       "      <th></th>\n",
       "      <th></th>\n",
       "    </tr>\n",
       "  </thead>\n",
       "  <tbody>\n",
       "    <tr>\n",
       "      <th>10259</th>\n",
       "      <td>greek</td>\n",
       "      <td>romain_lettuc black_oliv grape_tomato garlic p...</td>\n",
       "    </tr>\n",
       "    <tr>\n",
       "      <th>25693</th>\n",
       "      <td>southern_us</td>\n",
       "      <td>flour pepper salt tomato black_pepper thyme eg...</td>\n",
       "    </tr>\n",
       "    <tr>\n",
       "      <th>20130</th>\n",
       "      <td>filipino</td>\n",
       "      <td>egg pepper salt mayonais cook_oil green_chili ...</td>\n",
       "    </tr>\n",
       "    <tr>\n",
       "      <th>22213</th>\n",
       "      <td>indian</td>\n",
       "      <td>water veget_oil wheat salt</td>\n",
       "    </tr>\n",
       "    <tr>\n",
       "      <th>13162</th>\n",
       "      <td>indian</td>\n",
       "      <td>black_pepper shallot cornflour cayenn_pepper o...</td>\n",
       "    </tr>\n",
       "  </tbody>\n",
       "</table>\n",
       "</div>"
      ],
      "text/plain": [
       "           cuisine                                        ingredients\n",
       "id                                                                   \n",
       "10259        greek  romain_lettuc black_oliv grape_tomato garlic p...\n",
       "25693  southern_us  flour pepper salt tomato black_pepper thyme eg...\n",
       "20130     filipino  egg pepper salt mayonais cook_oil green_chili ...\n",
       "22213       indian                         water veget_oil wheat salt\n",
       "13162       indian  black_pepper shallot cornflour cayenn_pepper o..."
      ]
     },
     "execution_count": 87,
     "metadata": {},
     "output_type": "execute_result"
    }
   ],
   "source": [
    "from preprocess import preprocess_recipes\n",
    "df = preprocess_recipes(df)\n",
    "df.head()"
   ]
  },
  {
   "cell_type": "markdown",
   "metadata": {},
   "source": [
    "The classes are unbalanced, which might cause a problem for our model"
   ]
  },
  {
   "cell_type": "code",
   "execution_count": 88,
   "metadata": {},
   "outputs": [
    {
     "data": {
      "text/plain": [
       "italian         7838\n",
       "mexican         6438\n",
       "southern_us     4320\n",
       "indian          3003\n",
       "chinese         2673\n",
       "french          2646\n",
       "cajun_creole    1546\n",
       "thai            1539\n",
       "japanese        1423\n",
       "greek           1175\n",
       "spanish          989\n",
       "korean           830\n",
       "vietnamese       825\n",
       "moroccan         821\n",
       "british          804\n",
       "filipino         755\n",
       "irish            667\n",
       "jamaican         526\n",
       "russian          489\n",
       "brazilian        467\n",
       "Name: cuisine, dtype: int64"
      ]
     },
     "execution_count": 88,
     "metadata": {},
     "output_type": "execute_result"
    }
   ],
   "source": [
    "df['cuisine'].value_counts()"
   ]
  },
  {
   "cell_type": "markdown",
   "metadata": {},
   "source": [
    "## Bag of words"
   ]
  },
  {
   "cell_type": "code",
   "execution_count": 89,
   "metadata": {},
   "outputs": [],
   "source": [
    "from sklearn.feature_extraction.text import CountVectorizer\n",
    "import numpy as np\n",
    "count_vectorizer = CountVectorizer(max_features=50000, min_df=0, max_df=0.9, ngram_range=(1,2))\n",
    "\n",
    "X = count_vectorizer.fit_transform(df['ingredients'].values)\n",
    "\n",
    "df_y = pd.get_dummies(df['cuisine'])\n",
    "Y = np.array(df_y)"
   ]
  },
  {
   "cell_type": "code",
   "execution_count": 90,
   "metadata": {},
   "outputs": [],
   "source": [
    "from sklearn.model_selection import train_test_split\n",
    "X_train,X_test,y_train,y_test = train_test_split(X, Y, random_state=3628800, test_size=0.2)"
   ]
  },
  {
   "cell_type": "markdown",
   "metadata": {},
   "source": [
    "## Neural network classifier"
   ]
  },
  {
   "cell_type": "code",
   "execution_count": 91,
   "metadata": {},
   "outputs": [
    {
     "name": "stdout",
     "output_type": "stream",
     "text": [
      "Epoch 1/5\n",
      "31819/31819 [==============================] - 97s 3ms/sample - loss: 1.8115 - categorical_accuracy: 0.5165 - top_k_categorical_accuracy: 0.7944\n",
      "Epoch 2/5\n",
      "31819/31819 [==============================] - 95s 3ms/sample - loss: 0.8986 - categorical_accuracy: 0.7463 - top_k_categorical_accuracy: 0.9497\n",
      "Epoch 3/5\n",
      "31819/31819 [==============================] - 116s 4ms/sample - loss: 0.5810 - categorical_accuracy: 0.8406 - top_k_categorical_accuracy: 0.9779\n",
      "Epoch 4/5\n",
      "31819/31819 [==============================] - 100s 3ms/sample - loss: 0.3844 - categorical_accuracy: 0.8991 - top_k_categorical_accuracy: 0.9895\n",
      "Epoch 5/5\n",
      "31819/31819 [==============================] - 97s 3ms/sample - loss: 0.2576 - categorical_accuracy: 0.9366 - top_k_categorical_accuracy: 0.9948\n",
      "7955/7955 [==============================] - 13s 2ms/sample - loss: 0.7754 - categorical_accuracy: 0.7770 - top_k_categorical_accuracy: 0.9627\n",
      "Test loss: 0.775366881761365\n",
      "Test accuracy: 0.7769956\n"
     ]
    }
   ],
   "source": [
    "from tensorflow import keras\n",
    "\n",
    "from tensorflow.keras.models import Sequential\n",
    "from tensorflow.keras.layers import Dense, Dropout\n",
    "\n",
    "model = Sequential()\n",
    "\n",
    "model.add(Dense(activation=\"relu\", input_dim=50000, units=150, kernel_initializer=\"uniform\"))\n",
    "model.add(Dropout(0.5, noise_shape=None, seed=None))\n",
    "model.add(Dense(activation=\"softmax\", units=20, kernel_initializer=\"uniform\"))\n",
    "\n",
    "model.compile(optimizer = 'adam', loss = 'categorical_crossentropy' , metrics = ['categorical_accuracy', 'top_k_categorical_accuracy'])\n",
    "model.fit(X_train, y_train, batch_size = 128, epochs = 5, verbose=1)\n",
    "\n",
    "score = model.evaluate(X_test, y_test, verbose=1)\n",
    "print('Test loss:', score[0])\n",
    "print('Test accuracy:', score[1])\n"
   ]
  },
  {
   "cell_type": "markdown",
   "metadata": {},
   "source": [
    "We see a decent accuracy, but upon submiting to kaggle the results are 0.17 which is pretty bad. I suspect its the imbalance of the classes, and we see here that top_5_categorical accuracy is really high, which suggest that the model learns the unbalance and doesnt predict properly. I could find a proper loss function to account for this."
   ]
  },
  {
   "cell_type": "markdown",
   "metadata": {},
   "source": [
    "## Logistic regression"
   ]
  },
  {
   "cell_type": "code",
   "execution_count": 95,
   "metadata": {},
   "outputs": [],
   "source": [
    "from sklearn.model_selection import train_test_split\n",
    "\n",
    "X = count_vectorizer.fit_transform(df['ingredients'].values)\n",
    "Y = np.array(df['cuisine'])\n",
    "X_train, X_test, y_train, y_test = train_test_split(X,Y, test_size=0.2, random_state=1)"
   ]
  },
  {
   "cell_type": "code",
   "execution_count": 97,
   "metadata": {},
   "outputs": [],
   "source": [
    "def get_label_weights():\n",
    "    values = df['cuisine'].value_counts()\n",
    "    c = zip(values.index, values)\n",
    "    c = {k:v for k,v in c}\n",
    "    s = sum(c.values())\n",
    "    return {k:v/s for k,v in c.items()}\n"
   ]
  },
  {
   "cell_type": "code",
   "execution_count": 104,
   "metadata": {},
   "outputs": [],
   "source": [
    "from sklearn.linear_model import LogisticRegression\n",
    "from sklearn.svm import LinearSVC\n",
    "from sklearn.model_selection import GridSearchCV\n",
    "\n",
    "model = LogisticRegression(class_weight='balanced', solver='newton-cg', multi_class='multinomial')\n",
    "\n",
    "classifier = GridSearchCV(model, {'C':[1, 10]}, cv=5,)\n",
    "classifier=classifier.fit(X_train,y_train)\n"
   ]
  },
  {
   "cell_type": "code",
   "execution_count": 105,
   "metadata": {},
   "outputs": [
    {
     "data": {
      "text/plain": [
       "0.7614079195474545"
      ]
     },
     "execution_count": 105,
     "metadata": {},
     "output_type": "execute_result"
    }
   ],
   "source": [
    "from sklearn.metrics import accuracy_score\n",
    "\n",
    "predict = classifier.predict(X_test)\n",
    "accuracy_score(y_test, predict)"
   ]
  },
  {
   "cell_type": "markdown",
   "metadata": {},
   "source": [
    "## Submit"
   ]
  },
  {
   "cell_type": "code",
   "execution_count": 106,
   "metadata": {},
   "outputs": [],
   "source": [
    "import pandas as pd\n",
    "from preprocess import preprocess_recipes\n",
    "def predict_test(model):\n",
    "    df_submit = pd.read_json(\"../data/test.json\").set_index(\"id\")\n",
    "    df_submit = preprocess_recipes(df_submit)\n",
    "    X = count_vectorizer.fit_transform(df_submit['ingredients'].values)\n",
    "    predicitons = model.predict(X)\n",
    "    return pd.DataFrame(list(zip(df_submit.index.values, predicitons)), columns=['id','cuisine'])"
   ]
  },
  {
   "cell_type": "code",
   "execution_count": 108,
   "metadata": {},
   "outputs": [],
   "source": [
    "predicions = predict_test(classifier)\n",
    "predictions.to_csv('sub.csv', columns=['id', 'cuisine'], index=False)"
   ]
  },
  {
   "cell_type": "code",
   "execution_count": null,
   "metadata": {},
   "outputs": [],
   "source": []
  }
 ],
 "metadata": {
  "kernelspec": {
   "display_name": "Python 3",
   "language": "python",
   "name": "python3"
  },
  "language_info": {
   "codemirror_mode": {
    "name": "ipython",
    "version": 3
   },
   "file_extension": ".py",
   "mimetype": "text/x-python",
   "name": "python",
   "nbconvert_exporter": "python",
   "pygments_lexer": "ipython3",
   "version": "3.7.1"
  }
 },
 "nbformat": 4,
 "nbformat_minor": 2
}
